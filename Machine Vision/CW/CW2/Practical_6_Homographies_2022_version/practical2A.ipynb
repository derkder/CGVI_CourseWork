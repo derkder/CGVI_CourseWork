version https://git-lfs.github.com/spec/v1
oid sha256:75570ec76227ef50bed6f5042fa8a26d23425531572920717dcb6680788aa988
size 15002
