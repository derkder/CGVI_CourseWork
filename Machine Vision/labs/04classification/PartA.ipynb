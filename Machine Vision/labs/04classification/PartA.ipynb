{
 "cells": [
  {
   "cell_type": "markdown",
   "metadata": {},
   "source": [
    "# Lab 4\n",
    "The goal of this practical is to investigate the logistic regression model. This is broken down into four parts:\n",
    "- [Part A](#Part-A:-Investigating-line-search): investigating line search as a method for optimising black box functions\n",
    "- [Part B](PartB.ipynb): applying Newton's method and steepest descent as optimisation methods for two-dimensional functions\n",
    "- [Part C](PartC.ipynb): using the same optimisation methods for fitting a logistic regression model to simple 2D data\n",
    "- [Part D](PartD.ipynb): implementing the logistic regression model for face detection by using a binary classifier on image data"
   ]
  },
  {
   "cell_type": "markdown",
   "metadata": {},
   "source": [
    "# Part A: Investigating line search\n",
    "Look through the code to understand the goal of this part, and then fill in the 'TO DO' sections - starting with implementing the ['`line_search`'](#Optimisation-procedure) method "
   ]
  },
  {
   "cell_type": "markdown",
   "metadata": {},
   "source": [
    "### Import modules"
   ]
  },
  {
   "cell_type": "code",
   "execution_count": null,
   "metadata": {},
   "outputs": [],
   "source": [
    "%load_ext autoreload\n",
    "%autoreload 2\n",
    "\n",
    "import matplotlib.pyplot as plt\n",
    "%matplotlib inline\n",
    "plt.style.use('machinevision.mplstyle')\n",
    "from numpy import arange, array, exp, sin\n",
    "from scipy.optimize import fmin"
   ]
  },
  {
   "cell_type": "markdown",
   "metadata": {},
   "source": [
    "# Define functions to optimise\n",
    "You can think of each of these functions as being a 'black box'"
   ]
  },
  {
   "cell_type": "code",
   "execution_count": 2,
   "metadata": {
    "collapsed": true,
    "jupyter": {
     "outputs_hidden": true
    }
   },
   "outputs": [],
   "source": [
    "def my_function(x):\n",
    "    if x < 0:\n",
    "        return -x\n",
    "    elif x > 1:\n",
    "        return -sin((1 * 1.8)**2) + x - 1\n",
    "    else:\n",
    "        return -sin((x * 1.8)**2)\n",
    "\n",
    "\n",
    "def my_function2(x):\n",
    "    if x < 0:\n",
    "        return -x - exp(-0.5 * (-0.2 / 0.025)**2)\n",
    "    elif x > 1:\n",
    "        return -sin((1 * 1.8)**2) + x - 1\n",
    "    else:\n",
    "        return -sin((x * 1.8)**2) - exp(-0.5 * ((x - 0.2) / 0.025)**2)"
   ]
  },
  {
   "cell_type": "markdown",
   "metadata": {},
   "source": [
    "# Optimisation procedure"
   ]
  },
  {
   "cell_type": "code",
   "execution_count": 3,
   "metadata": {
    "collapsed": true,
    "jupyter": {
     "outputs_hidden": true
    }
   },
   "outputs": [],
   "source": [
    "def line_search(function, start, end, tolerance):\n",
    "    a = start\n",
    "    d = end\n",
    "\n",
    "    while (d - a) > tolerance:\n",
    "        print('Current Search Region is {:6.6f} to {:6.6f}'.format(a, d))\n",
    "        break\n",
    "        # TO DO - Implement a line search iteration:\n",
    "        #\n",
    "        # step 1: Remove the break above\n",
    "        # step 2: Calculate intermediate positions b and c, 1/3 and 2/3 of the way through interval\n",
    "        #         (between a and d), respectively\n",
    "        #\n",
    "        # step 3:  Evaluate function at points b and c\n",
    "        #\n",
    "        # step 4:  Update point a or d depending on the values of those evaluations\n",
    "\n",
    "    return a, function(a)"
   ]
  },
  {
   "cell_type": "markdown",
   "metadata": {},
   "source": [
    "# Construct data"
   ]
  },
  {
   "cell_type": "code",
   "execution_count": 4,
   "metadata": {
    "collapsed": true,
    "jupyter": {
     "outputs_hidden": true
    }
   },
   "outputs": [],
   "source": [
    "function = my_function\n",
    "\n",
    "x = arange(0, 1, step=0.01)\n",
    "w = array([function(x_i) for x_i in x])"
   ]
  },
  {
   "cell_type": "markdown",
   "metadata": {},
   "source": [
    "# Perform optimisation"
   ]
  },
  {
   "cell_type": "markdown",
   "metadata": {},
   "source": [
    "### Line search"
   ]
  },
  {
   "cell_type": "code",
   "execution_count": 5,
   "metadata": {
    "collapsed": true,
    "jupyter": {
     "outputs_hidden": true
    }
   },
   "outputs": [
    {
     "name": "stdout",
     "output_type": "stream",
     "text": [
      "Current Search Region is 0.000000 to 1.000000\n"
     ]
    }
   ],
   "source": [
    "min_x, min_value = line_search(function, start=0, end=1, tolerance=1e-4)"
   ]
  },
  {
   "cell_type": "markdown",
   "metadata": {},
   "source": [
    "### SciPy optimisation\n",
    "There is a SciPy method that can do this optimisation for you given a function.\n",
    "\n",
    "**TO DO:** Look up the help page for the function `fmin`, you can also try `?fmin` in a new jupyter cell to get an information about functions."
   ]
  },
  {
   "cell_type": "code",
   "execution_count": 6,
   "metadata": {
    "collapsed": true,
    "jupyter": {
     "outputs_hidden": true
    }
   },
   "outputs": [
    {
     "name": "stdout",
     "output_type": "stream",
     "text": [
      "Optimization terminated successfully.\n",
      "         Current function value: -1.000000\n",
      "         Iterations: 24\n",
      "         Function evaluations: 48\n"
     ]
    }
   ],
   "source": [
    "scipy_min_x = fmin(function, x0=0, xtol=1e-4)\n",
    "scipy_min_value = function(scipy_min_x)"
   ]
  },
  {
   "cell_type": "markdown",
   "metadata": {},
   "source": [
    "# Visualise results\n",
    "If everything is working correctly the optimised `x` from the line search and the result from `fmin` should coincide, and appear to be at the function's minimum"
   ]
  },
  {
   "cell_type": "code",
   "execution_count": 7,
   "metadata": {
    "collapsed": true,
    "jupyter": {
     "outputs_hidden": true
    }
   },
   "outputs": [
    {
     "data": {
      "image/png": "[encoded data removed]",
      "text/plain": [
       "<Figure size 648x576 with 1 Axes>"
      ]
     },
     "metadata": {
      "needs_background": "light"
     },
     "output_type": "display_data"
    }
   ],
   "source": [
    "fig, ax = plt.subplots(figsize=(9, 8))\n",
    "\n",
    "ax.plot(x, w, 'b-')\n",
    "ax.plot(scipy_min_x, scipy_min_value, 'ro', markeredgewidth=2, markersize=22, label='SciPy')\n",
    "ax.plot(min_x, min_value, 'bo', fillstyle='full', label='line search')\n",
    "\n",
    "ax.set(xlabel='$x$', ylabel='$f(x)$', xlim=[0, 1], ylim=[-1.5, 0.5])\n",
    "plt.legend();"
   ]
  },
  {
   "cell_type": "markdown",
   "metadata": {},
   "source": [
    "## TO DO\n",
    "### Repeat the process for `myfunction2`\n",
    "Try using different initialisations in order to find the *global* minimum"
   ]
  }
 ],
 "metadata": {
  "interpreter": {
   "hash": "3067ead486e059ec00ffe7555bdb889e6e264a24dc711bf108106cc7baee8d5d"
  },
  "kernelspec": {
   "display_name": "Python 3.8.8 64-bit ('base': conda)",
   "name": "python3"
  },
  "language_info": {
   "codemirror_mode": {
    "name": "ipython",
    "version": 3
   },
   "file_extension": ".py",
   "mimetype": "text/x-python",
   "name": "python",
   "nbconvert_exporter": "python",
   "pygments_lexer": "ipython3",
   "version": "3.11.5"
  }
 },
 "nbformat": 4,
 "nbformat_minor": 4
}
