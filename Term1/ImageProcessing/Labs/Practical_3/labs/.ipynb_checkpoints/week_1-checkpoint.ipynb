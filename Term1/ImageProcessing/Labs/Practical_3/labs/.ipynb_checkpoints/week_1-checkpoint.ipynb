{
 "cells": [
  {
   "cell_type": "markdown",
   "source": [
    "# Week 1 Inroduction\n",
    "\n",
    "This is an unassessed coursework to help you learn some key Python features that you will undoubtedly need at some point during this module.\n",
    "For those of you who haven't used Python before please work through [Intro-to-Python](https://gitlab.erc.monash.edu.au/andrease/Python4Maths/-/tree/master/Intro-to-Python) gitlab notebooks they provide excellent introduction to Python.\n",
    "From 00-07 will be more than sufficient to get you used to Python and of course it will be better if you did more.\n",
    "And for those who have previous Python experience feel free to skip them.\n",
    "\n",
    "This coursework should be worked on during the scheduled tutorial sessions where you can ask questions if you get stuck."
   ],
   "metadata": {
    "collapsed": false
   }
  },
  {
   "cell_type": "code",
   "execution_count": null,
   "outputs": [],
   "source": [
    "import numpy as np\n",
    "import cv2\n",
    "import matplotlib.image as mpimg\n",
    "from matplotlib import pyplot as plt\n",
    "%matplotlib inline #to visualize the plots within the notebook"
   ],
   "metadata": {
    "collapsed": false,
    "pycharm": {
     "name": "#%%\n"
    }
   }
  },
  {
   "cell_type": "markdown",
   "source": [
    "## Task 1. Basic loading and displaying\n",
    "In this task you will learn how to load, display and convert to gray scale RGB images.\n",
    "### 1.1 Display image\n",
    "Download a color image and place it in the images' folder if you like or use the images already there.\n",
    "Now load the image and display it but be careful as different loading functions can represent images in a different datatype or different channels order.\n",
    "\n",
    "`Hint: images in python can be though of as a multidimentional array`"
   ],
   "metadata": {
    "collapsed": false,
    "pycharm": {
     "name": "#%% md\n"
    }
   }
  },
  {
   "cell_type": "code",
   "source": [
    "# fill in missing part\n",
    "img = np.empty((100,100,3)) # replace this code and load your image\n",
    "\n",
    "# display the image\n",
    "# display(img)\n"
   ],
   "metadata": {
    "collapsed": false,
    "pycharm": {
     "name": "#%%\n"
    }
   },
   "execution_count": null,
   "outputs": []
  },
  {
   "cell_type": "markdown",
   "source": [
    "Play a bit with the image and understand how the images are represented in Python for example try:\n",
    "- Printing the shape\n",
    "- Try accessing image channels\n",
    "- Display each channel separately\n",
    "- Swap the channels and display the image\n",
    "\n",
    "Did you notice any differences when you swapped the channels? or visualized only one channel ata time?"
   ],
   "metadata": {
    "collapsed": false
   }
  },
  {
   "cell_type": "markdown",
   "source": [
    "### 1.2 Convert to gray scale\n",
    "`Hint: try using cvtColor from openCV packge`"
   ],
   "metadata": {
    "collapsed": false
   }
  },
  {
   "cell_type": "code",
   "execution_count": null,
   "outputs": [],
   "source": [
    "gray_img = np.empty((100,100,3)) # replace this code and load your image\n",
    "\n",
    "# display the image\n",
    "# display(gray_img)"
   ],
   "metadata": {
    "collapsed": false,
    "pycharm": {
     "name": "#%%\n"
    }
   }
  },
  {
   "cell_type": "markdown",
   "source": [
    "Try writing your oen method to convert RGB images to gray scale."
   ],
   "metadata": {
    "collapsed": false
   }
  },
  {
   "cell_type": "code",
   "execution_count": null,
   "outputs": [],
   "source": [
    "def to_gray(img):\n",
    "    '''\n",
    "    Convert and RGB image into gray scale\n",
    "    :param img: RBG image with size HxWx3\n",
    "    :return: gray scaled image of size HxW\n",
    "    '''\n",
    "    assert len(img.shape) == 3, f'Wrong input image dimensions, we expected an input of size HxWxC instead we got {img.shape}'\n",
    "    h,w,c = img.shape\n",
    "    gray_img = img # Modify this part to convert the image onto gray scale\n",
    "\n",
    "    assert gray_img.shape == (h,w), 'Wrong spacial dimensions, your method should only change the channel dimension'\n",
    "    return gray_img"
   ],
   "metadata": {
    "collapsed": false,
    "pycharm": {
     "name": "#%%\n"
    }
   }
  },
  {
   "cell_type": "markdown",
   "source": [
    "## More advanced basics\n",
    "Now we have learned how to load and display images, and we have some information about how Python represent images we can do more advance image manipulations.\n",
    "\n",
    "### 2.1 Transpose\n",
    "Flip the image across its diagonal."
   ],
   "metadata": {
    "collapsed": false
   }
  },
  {
   "cell_type": "code",
   "execution_count": null,
   "outputs": [],
   "source": [
    "transposed_img = np.empty((100,100,3)) # replace this code and load your image\n",
    "\n",
    "# display the image\n",
    "# display(transposed_img)"
   ],
   "metadata": {
    "collapsed": false,
    "pycharm": {
     "name": "#%%\n"
    }
   }
  },
  {
   "cell_type": "markdown",
   "source": [
    "### 2.2 Split the image\n",
    "Split the image into four equal parts and display each of them.\n",
    "You can display each of them separately or preferably in a single plot using `subplots`."
   ],
   "metadata": {
    "collapsed": false,
    "pycharm": {
     "name": "#%% md\n"
    }
   }
  },
  {
   "cell_type": "code",
   "execution_count": null,
   "outputs": [],
   "source": [
    "first_part = img\n",
    "second_part = img\n",
    "third_part = img\n",
    "fourth_part = img\n",
    "\n",
    "# display all parts"
   ],
   "metadata": {
    "collapsed": false,
    "pycharm": {
     "name": "#%%\n"
    }
   }
  },
  {
   "cell_type": "markdown",
   "source": [
    "## Scaling and loops\n",
    "Use openCV python routines to scale down the image and plot them side by side with the full scaled image.\n",
    "Write your own function to scale down the image using an average of 4 pixels."
   ],
   "metadata": {
    "collapsed": false
   }
  },
  {
   "cell_type": "code",
   "execution_count": null,
   "outputs": [],
   "source": [
    "scaled_img = img # replace this part\n",
    "\n",
    "axes = plt.subplots(2,1)\n",
    "# display original image\n",
    "\n",
    "# display scaled down image"
   ],
   "metadata": {
    "collapsed": false,
    "pycharm": {
     "name": "#%%\n"
    }
   }
  },
  {
   "cell_type": "code",
   "execution_count": null,
   "outputs": [],
   "source": [
    "def average_scale_down(img):\n",
    "    '''\n",
    "    Scale down and RGB image\n",
    "    :param img: RBG image with size HxWx3\n",
    "    :return: scaled_img: RBG scaled down image with size (H/4)x(W/4)x3\n",
    "    '''\n",
    "    assert len(img.shape) == 3, f'Wrong input image dimensions, we expected an input of size HxWxC instead we got {img.shape}'\n",
    "    h,w,c = img.shape\n",
    "    scaled_img = img # Modify this part to convert the image onto gray scale\n",
    "\n",
    "    assert scaled_img.shape == (h//2,w//2, 3), f'Wrong spacial dimensions, your method should reduce the spacial dimensions by a factor of four we expect {(h//2,w//2, 3)} instead we have {scaled_img.shape}'\n",
    "    return scaled_img"
   ],
   "metadata": {
    "collapsed": false,
    "pycharm": {
     "name": "#%%\n"
    }
   }
  },
  {
   "cell_type": "markdown",
   "source": [
    "Similarly, how can you double the size of an image?\n",
    "What sort of artefacts are visible if you do so?\n",
    "Try and code this out yourself.\n",
    "\n",
    "### Advanced\n",
    "Nested loops can take a lot of time you may already noticed, rewrite your scale down function without using loops.\n",
    "\n",
    "`Hint: make use of extrcat 2d pathes in sklearn alredy impelemnted for you in utils`"
   ],
   "metadata": {
    "collapsed": false
   }
  }
 ],
 "metadata": {
  "kernelspec": {
   "display_name": "Python 3",
   "language": "python",
   "name": "python3"
  },
  "language_info": {
   "codemirror_mode": {
    "name": "ipython",
    "version": 2
   },
   "file_extension": ".py",
   "mimetype": "text/x-python",
   "name": "python",
   "nbconvert_exporter": "python",
   "pygments_lexer": "ipython2",
   "version": "2.7.6"
  }
 },
 "nbformat": 4,
 "nbformat_minor": 0
}