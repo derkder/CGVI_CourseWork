version https://git-lfs.github.com/spec/v1
oid sha256:c3eb474442c67426179c9668fc46b77b9175828a107f6fc324b804c65cc6d24c
size 223209186
